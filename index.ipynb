{
 "cells": [
  {
   "cell_type": "code",
   "execution_count": null,
   "id": "d2084e67-8453-43e2-b864-007987072521",
   "metadata": {},
   "outputs": [],
   "source": [
    "# default_exp __init__"
   ]
  },
  {
   "cell_type": "markdown",
   "id": "a059ef95",
   "metadata": {},
   "source": [
    "# FLayout\n",
    "> My personal KLayout wrappers and utility functions"
   ]
  },
  {
   "cell_type": "code",
   "execution_count": null,
   "id": "45ada385-89ae-4efd-9f4f-4553d75dd231",
   "metadata": {},
   "outputs": [],
   "source": [
    "# exporti\n",
    "__version__ = \"0.0.0\"\n",
    "__author__ = \"Floris Laporte\"\n",
    "\n",
    "from flayout.cell import copy_tree as copy_tree\n",
    "from flayout.cell import reference as reference\n",
    "from flayout.factories import box as box\n",
    "from flayout.factories import cell as cell\n",
    "from flayout.factories import layer as layer\n",
    "from flayout.factories import layout as layout\n",
    "from flayout.factories import library as library\n",
    "from flayout.factories import path as path\n",
    "from flayout.factories import point as point\n",
    "from flayout.factories import polygon as polygon\n",
    "from flayout.factories import transform as transform\n",
    "from flayout.factories import vector as vector\n",
    "from flayout.io import read_gds as read_gds\n",
    "from flayout.io import save_gds as save_gds\n",
    "from flayout.pcell import pcell as pcell"
   ]
  },
  {
   "cell_type": "code",
   "execution_count": null,
   "id": "0813fb22",
   "metadata": {},
   "outputs": [],
   "source": [
    "# hide\n",
    "import json\n",
    "from nbdev.showdoc import Markdown"
   ]
  },
  {
   "cell_type": "markdown",
   "id": "165ba04d-d5b2-477b-a289-22a672044011",
   "metadata": {},
   "source": [
    "## Archived\n",
    "\n",
    "**Consider this project archived as I don't have time to maintain it. Feel free to use whatever you deem useful in your own klayout-based projects.**"
   ]
  },
  {
   "cell_type": "markdown",
   "id": "cc6cb4d6-d3a9-4f98-9612-6f9ce302f4c8",
   "metadata": {},
   "source": [
    "## Installation\n",
    "\n",
    "```sh\n",
    "git clone https://github.com/flaport/flayout\n",
    "cd flayout\n",
    "conda env update # create conda environment 'fl' with klayout (python library) and klayout-gui (GUI)\n",
    "pip install -e .\n",
    "```\n",
    "\n",
    "It would be cool if a [salt](https://www.klayout.de/package_cookbook.html) package for this library would exist.\n",
    "\n",
    "Note that this package might not work on Windwos... I never took the time to test it there..."
   ]
  },
  {
   "cell_type": "markdown",
   "id": "9c6e3721-5933-4c40-9c3c-1b657cbd7cd9",
   "metadata": {},
   "source": [
    "## Easy PCells\n",
    "\n",
    "This library offers a klayout [PCell decorator](https://flaport.github.io/flayout/pcell), which is much easier to use than the default PCell offered by the KLayout api. Moreover, the PCell decorator can be with a [GDSFactory](https://github.com/gdsfactory/gdsfactory) component function (or any function that produces a [gdspy](https://github.com/heitzmann/gdspy) cell) as well!"
   ]
  },
  {
   "cell_type": "markdown",
   "id": "eed1770d-ceb9-41fc-b9d0-f6cea14746b0",
   "metadata": {},
   "source": [
    "## Use with KLayout\n",
    "\n",
    "First install flayout as a system python package:\n",
    "\n",
    "```sh\n",
    "cd /path/to/flayout\n",
    "pip install --user .\n",
    "```\n",
    "\n",
    "Alternatively, you can also open the klayout gui from *within* the `fl` python environment (linux only)\n",
    "\n",
    "Then within klayout add a simple macro to import the flayout example library\n",
    "\n",
    "```python\n",
    "from flayout.example_lib import *\n",
    "```\n",
    "\n",
    "Note that running this macro takes a while in KLayout (about 10 seconds).\n",
    "\n",
    "After running the macro, open a new gdsfile and find the Flayout PCells in the \"F.E.L - Flayout Example Library\", which supplies two gdsfactory-defined components: the mzi and euler bend. These components are now imported as PCells!\n",
    "\n",
    "![gdsfactory_klayout_pcell](img/flayout_gf_mzi.png)\n",
    "\n",
    "You can have a look at how the [example library](flayout/example_lib.py) is implemented and try something similar for yourself!"
   ]
  },
  {
   "cell_type": "markdown",
   "id": "cd2bd927",
   "metadata": {},
   "source": [
    "## Quick Docs"
   ]
  },
  {
   "cell_type": "code",
   "execution_count": null,
   "id": "3db036f5",
   "metadata": {},
   "outputs": [],
   "source": [
    "# hide_input\n",
    "\n",
    "md = \"\"\n",
    "sidebar = json.load(open(\"docs/sidebar.json\"))\n",
    "for key, section in sidebar.items():\n",
    "    md += f\"- **{key}**\\n\"\n",
    "    for name, url in section.items():\n",
    "        if url == \"index\":\n",
    "            md += f\"  - {name}\\n\"\n",
    "        else:\n",
    "            md += f\"  - [{name}](https://flaport.github.io/flayout/{url})\\n\"\n",
    "        if url == \"factories\":\n",
    "            md = md[:-1] + \"     ⬅ start here.\\n\"\n",
    "        \n",
    "Markdown(md)"
   ]
  },
  {
   "cell_type": "markdown",
   "id": "5577e5ff-9423-4346-bb21-7fbfb257f2d7",
   "metadata": {},
   "source": [
    "## NBDev\n",
    "\n",
    "This project was created using [nbdev1](https://nbdev1.fast.ai/). An awesome [literate programming](https://en.wikipedia.org/wiki/Literate_programming) environment for python."
   ]
  },
  {
   "cell_type": "markdown",
   "id": "d53d3c2a-2a56-4f61-b543-c22c0da82b52",
   "metadata": {},
   "source": [
    "## License\n",
    "\n",
    "As this library can be considered a light wrapper for the KLayout python api, I chose license it under [GPLv3](LICENSE)."
   ]
  }
 ],
 "metadata": {
  "kernelspec": {
   "display_name": "fl",
   "language": "python",
   "name": "fl"
  }
 },
 "nbformat": 4,
 "nbformat_minor": 5
}
