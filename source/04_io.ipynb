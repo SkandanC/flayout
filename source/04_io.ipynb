{
 "cells": [
  {
   "cell_type": "code",
   "execution_count": null,
   "id": "893fd908-aa0b-4daa-ac08-16c7782101f6",
   "metadata": {},
   "outputs": [],
   "source": [
    "# default_exp io"
   ]
  },
  {
   "cell_type": "markdown",
   "id": "d816dbc2-a09f-4e7a-b173-680c9fb05d38",
   "metadata": {},
   "source": [
    "# FLayout IO\n",
    "> read and save KLayout layouts"
   ]
  },
  {
   "cell_type": "code",
   "execution_count": null,
   "id": "2a7e3589-2b55-4791-838b-2798b4a7648d",
   "metadata": {},
   "outputs": [],
   "source": [
    "# exporti\n",
    "import os\n",
    "\n",
    "import pya"
   ]
  },
  {
   "cell_type": "code",
   "execution_count": null,
   "id": "e8bfc909-072a-4fef-83a2-14ecc564181a",
   "metadata": {},
   "outputs": [],
   "source": [
    "# export\n",
    "def read_gds(fp: str) -> pya.Layout:\n",
    "    \"\"\"load a layout\n",
    "\n",
    "    Args:\n",
    "        fp: the path to the layout to load\n",
    "\n",
    "    Returns:\n",
    "        the loaded layout\n",
    "    \"\"\"\n",
    "    if isinstance(fp, str):\n",
    "        fp = os.path.abspath(os.path.expanduser(fp))\n",
    "    layout = pya.Layout()\n",
    "    layout.read(fp)\n",
    "    return layout"
   ]
  },
  {
   "cell_type": "code",
   "execution_count": null,
   "id": "54754b17-afb8-4e2c-9256-db991e74a161",
   "metadata": {},
   "outputs": [],
   "source": [
    "# export\n",
    "def save_gds(layout: pya.Layout, fp: str):\n",
    "    \"\"\"save a layout\n",
    "\n",
    "    Args:\n",
    "        layout: the layout to save\n",
    "        fp: the path where to save the layout\n",
    "    \"\"\"\n",
    "    if isinstance(fp, str):\n",
    "        fp = os.path.abspath(os.path.expanduser(fp))\n",
    "    if isinstance(layout, pya.Layout):\n",
    "        layout.write(fp)\n",
    "    else:\n",
    "        raise ValueError(f\"Don't know how to save type {layout.__class__.__name__}.\")"
   ]
  }
 ],
 "metadata": {
  "kernelspec": {
   "display_name": "fl",
   "language": "python",
   "name": "fl"
  }
 },
 "nbformat": 4,
 "nbformat_minor": 5
}
