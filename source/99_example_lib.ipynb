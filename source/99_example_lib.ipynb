{
 "cells": [
  {
   "cell_type": "code",
   "execution_count": null,
   "id": "831fd803-f817-4b13-94b9-c97d5fd9b667",
   "metadata": {},
   "outputs": [],
   "source": [
    "# default_exp example_lib"
   ]
  },
  {
   "cell_type": "markdown",
   "id": "a8f0486c-2290-4ec4-b63f-63987110c7a1",
   "metadata": {},
   "source": [
    "# Example Library\n",
    "> An example library of PCells importable in klayout."
   ]
  },
  {
   "cell_type": "code",
   "execution_count": null,
   "id": "055bfd2c-4968-4b16-b4e4-65a7ee48381e",
   "metadata": {},
   "outputs": [],
   "source": [
    "# exporti\n",
    "import pya\n",
    "import flayout as fl"
   ]
  },
  {
   "cell_type": "code",
   "execution_count": null,
   "id": "60d0fcaf-79fd-41ab-a658-52f101b384ef",
   "metadata": {},
   "outputs": [],
   "source": [
    "# hide\n",
    "import flayout.notebook"
   ]
  },
  {
   "cell_type": "code",
   "execution_count": null,
   "id": "8f9ece43-492a-4f59-b16b-0eecc60b002f",
   "metadata": {},
   "outputs": [],
   "source": [
    "# export\n",
    "@fl.pcell\n",
    "def rectangle(\n",
    "    name=\"rectangle\",\n",
    "    width: float = 1.0,\n",
    "    height: float = 0.5,\n",
    "    layer: pya.LayerInfo = pya.LayerInfo(1, 0),\n",
    "):\n",
    "    rect = fl.polygon(hull=[(-width/2, -height/2), (width/2, -height/2), (width/2, height/2), (-width/2, height/2)])\n",
    "    cell = fl.cell(name, shapes={layer: [rect]})\n",
    "    return cell"
   ]
  },
  {
   "cell_type": "code",
   "execution_count": null,
   "id": "56580594-751c-453f-918c-5241c681bda8",
   "metadata": {},
   "outputs": [],
   "source": [
    "rectangle()"
   ]
  },
  {
   "cell_type": "code",
   "execution_count": null,
   "id": "a61f7b10-44c4-4599-8f85-b13925bcb612",
   "metadata": {},
   "outputs": [],
   "source": [
    "# export\n",
    "@fl.pcell\n",
    "def square(\n",
    "    name=\"square\",\n",
    "    width: float = 0.5,\n",
    "    layer: pya.LayerInfo = pya.LayerInfo(1, 0),\n",
    "):\n",
    "    square = fl.polygon(hull=[(-width/2, -width/2), (width/2, -width/2), (width/2, width/2), (-width/2, width/2)])\n",
    "    cell = fl.cell(name, shapes={layer: [square]})\n",
    "    return cell"
   ]
  },
  {
   "cell_type": "code",
   "execution_count": null,
   "id": "73b1fc34-fc98-4b63-acb7-6cacb5d96145",
   "metadata": {},
   "outputs": [],
   "source": [
    "square()"
   ]
  },
  {
   "cell_type": "code",
   "execution_count": null,
   "id": "e724cad8-ad67-473f-9482-60b09202ac4d",
   "metadata": {},
   "outputs": [],
   "source": [
    "# export\n",
    "gf_pcells = []\n",
    "try:\n",
    "    import gdsfactory.components as gfc\n",
    "except ImportError:\n",
    "    gfc = None\n",
    "\n",
    "if gfc is not None:\n",
    "    gf_pcells += [\n",
    "        mzi := fl.pcell(gfc.mzi, on_error=\"ignore\"),\n",
    "        bend_euler := fl.pcell(gfc.bend_euler, on_error=\"ignore\")\n",
    "    ]"
   ]
  },
  {
   "cell_type": "code",
   "execution_count": null,
   "id": "8271e1ed-a6b3-469f-9ee9-e2f2431a03f4",
   "metadata": {},
   "outputs": [],
   "source": [
    "if gfc is not None:\n",
    "    display(mzi())\n",
    "    display(bend_euler())"
   ]
  },
  {
   "cell_type": "markdown",
   "id": "c51c0904-300a-4490-b640-42cdde4a2aa6",
   "metadata": {},
   "source": [
    "## Library"
   ]
  },
  {
   "cell_type": "code",
   "execution_count": null,
   "id": "71b00ca4-04de-449c-882d-6760ffdde495",
   "metadata": {},
   "outputs": [],
   "source": [
    "# exports\n",
    "example_lib = fl.library(\n",
    "    \"F. E. L.\",\n",
    "    pcells=[rectangle, square, *gf_pcells],\n",
    "    cells=[],\n",
    "    description=\"FLayout Example Library\",\n",
    ")"
   ]
  }
 ],
 "metadata": {
  "kernelspec": {
   "display_name": "fl",
   "language": "python",
   "name": "fl"
  },
  "language_info": {
   "codemirror_mode": {
    "name": "ipython",
    "version": 3
   },
   "file_extension": ".py",
   "mimetype": "text/x-python",
   "name": "python",
   "nbconvert_exporter": "python",
   "pygments_lexer": "ipython3",
   "version": "3.10.2"
  }
 },
 "nbformat": 4,
 "nbformat_minor": 5
}
