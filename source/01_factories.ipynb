{
 "cells": [
  {
   "cell_type": "code",
   "execution_count": null,
   "id": "893fd908-aa0b-4daa-ac08-16c7782101f6",
   "metadata": {},
   "outputs": [],
   "source": [
    "# default_exp factories"
   ]
  },
  {
   "cell_type": "markdown",
   "id": "d816dbc2-a09f-4e7a-b173-680c9fb05d38",
   "metadata": {},
   "source": [
    "# FLayout Factories\n",
    "> FLayout core factories yielding native klayout datastructures."
   ]
  },
  {
   "cell_type": "code",
   "execution_count": null,
   "id": "582867a3-6517-48a2-9557-7e9591a9988c",
   "metadata": {},
   "outputs": [],
   "source": [
    "# exporti\n",
    "from typing import Dict, List, Optional, Tuple, Union, overload\n",
    "\n",
    "import pya\n",
    "from flayout.cell import (\n",
    "    LibReference,\n",
    "    PCellLibReference,\n",
    "    PCellReference,\n",
    "    Reference,\n",
    "    _add_cell_to_layout,\n",
    "    _add_lib_cell_to_layout,\n",
    "    _add_lib_pcell_to_layout,\n",
    "    add_cells_to_layout,\n",
    "    add_pcells_to_layout,\n",
    "    reference,\n",
    ")"
   ]
  },
  {
   "cell_type": "code",
   "execution_count": null,
   "id": "8216abd4-8a99-4f14-a11e-d2adfc0235c0",
   "metadata": {},
   "outputs": [],
   "source": [
    "# hide\n",
    "import flayout.notebook"
   ]
  },
  {
   "cell_type": "markdown",
   "id": "5ad0137d-fa1d-4c1d-b63c-62a22fbadce8",
   "metadata": {},
   "source": [
    "#### Shape"
   ]
  },
  {
   "cell_type": "code",
   "execution_count": null,
   "id": "3b5f97a2-db22-42dc-8958-643eb256bf2d",
   "metadata": {},
   "outputs": [],
   "source": [
    "# exports"
   ]
  },
  {
   "cell_type": "code",
   "execution_count": null,
   "id": "5bedd58b-748a-42c7-a38b-57fe4037ffc9",
   "metadata": {},
   "outputs": [],
   "source": [
    "# export\n",
    "def layer(lr: int, dt: int, name: str = \"\") -> pya.LayerInfo:\n",
    "    layer = pya.LayerInfo(int(lr), int(dt))\n",
    "    if name:\n",
    "        layer.name = name\n",
    "    return layer"
   ]
  },
  {
   "cell_type": "code",
   "execution_count": null,
   "id": "95901d00-caee-4521-a206-158b89996575",
   "metadata": {},
   "outputs": [],
   "source": [
    "layer(19, 0)"
   ]
  },
  {
   "cell_type": "code",
   "execution_count": null,
   "id": "01e5a82c-23d4-47e4-b911-9209560499af",
   "metadata": {},
   "outputs": [],
   "source": [
    "# export\n",
    "def point(x: Union[float, int], y: Union[float, int]) -> pya.DPoint:\n",
    "    \"\"\"create a KLayout DPoint\n",
    "\n",
    "    Args:\n",
    "        x: the x-value of the point\n",
    "        y: the y-value of the point\n",
    "\n",
    "    Returns:\n",
    "        the point\n",
    "    \"\"\"\n",
    "    return pya.DPoint(float(x), float(y))"
   ]
  },
  {
   "cell_type": "code",
   "execution_count": null,
   "id": "29c197ac-e305-4771-ba7b-2981d5eebcac",
   "metadata": {},
   "outputs": [],
   "source": [
    "my_point = point(3, 5)\n",
    "my_point"
   ]
  },
  {
   "cell_type": "code",
   "execution_count": null,
   "id": "da742702-0d6d-4653-9ec6-af873a17a8e9",
   "metadata": {},
   "outputs": [],
   "source": [
    "# export\n",
    "def vector(x: Union[float, int], y: Union[float, int]) -> pya.DVector:\n",
    "    \"\"\"create a KLayout DVector\n",
    "\n",
    "    Args:\n",
    "        x: the x-value of the vector\n",
    "        y: the y-value of the vector\n",
    "\n",
    "    Returns:\n",
    "        the vector\n",
    "    \"\"\"\n",
    "    return pya.DVector(float(x), float(y))"
   ]
  },
  {
   "cell_type": "code",
   "execution_count": null,
   "id": "f6b92404-e19b-4331-88c2-02e27ed17008",
   "metadata": {},
   "outputs": [],
   "source": [
    "my_vector = vector(3, 5)\n",
    "my_vector"
   ]
  },
  {
   "cell_type": "code",
   "execution_count": null,
   "id": "c30dea4b-0dfd-4226-b7aa-6669a8c6c43e",
   "metadata": {},
   "outputs": [],
   "source": [
    "# export\n",
    "\n",
    "def _validate_point(p):\n",
    "    if isinstance(p, pya.Point):\n",
    "        p = p.to_dtype()\n",
    "    if not isinstance(p, pya.DPoint):\n",
    "        p = pya.DPoint(*(float(x) for x in p))\n",
    "    return p\n",
    "\n",
    "def box(p1: Union[pya.Point, pya.DPoint], p2: Union[pya.Point, pya.DPoint]) -> pya.DBox:\n",
    "    p1 = _validate_point(p1)\n",
    "    p2 = _validate_point(p2)\n",
    "    return pya.DBox(p1, p2)"
   ]
  },
  {
   "cell_type": "code",
   "execution_count": null,
   "id": "321746cc-5c32-48f1-97b5-c250fcd2df7a",
   "metadata": {},
   "outputs": [],
   "source": [
    "my_box = box((0, 0), (5, 10))\n",
    "my_box"
   ]
  },
  {
   "cell_type": "code",
   "execution_count": null,
   "id": "1214fc0f-6d0f-4d60-b8ac-e5f1abf3e0d1",
   "metadata": {},
   "outputs": [],
   "source": [
    "# export\n",
    "\n",
    "Point = Union[pya.DPoint, Tuple[int, int], Tuple[float, float], 'np.ndarray']\n",
    "Points = Union[List[Point], 'np.ndarray']\n",
    "\n",
    "@overload\n",
    "def polygon(\n",
    "    hull: Points,\n",
    "    *,\n",
    "    holes: None = None,\n",
    "    raw: bool = False,\n",
    ") -> pya.DSimplePolygon:\n",
    "    ...\n",
    "\n",
    "\n",
    "@overload\n",
    "def polygon(\n",
    "    hull: Points,\n",
    "    *,\n",
    "    holes: List[Points] = None,\n",
    "    raw: bool = False,\n",
    ") -> pya.DPolygon:\n",
    "    ...\n",
    "\n",
    "\n",
    "def polygon(\n",
    "    hull: Points,\n",
    "    *,\n",
    "    holes: Optional[List[Points]] = None,\n",
    "    raw: bool = False,\n",
    ") -> Union[pya.DSimplePolygon, pya.DPolygon]:\n",
    "    \"\"\"create a KLayout polygon\n",
    "\n",
    "    Args:\n",
    "        hull: the points that make the polygon hull\n",
    "        holes: the collection of points that make the polygon holes\n",
    "        raw: if true, the points won't be compressed.\n",
    "\n",
    "    Returns:\n",
    "        the polygon\n",
    "    \"\"\"\n",
    "    hull = [(p if isinstance(p, (pya.Point, pya.DPoint)) else point(*p)) for p in hull]\n",
    "    if holes is None:\n",
    "        poly = pya.DSimplePolygon(hull, raw)\n",
    "    else:\n",
    "        poly = pya.DPolygon(hull, raw)\n",
    "        for hole in holes:\n",
    "            hole = [(p if isinstance(p, pya.DPoint) else point(*p)) for p in hole]\n",
    "            poly.insert_hole(hole)\n",
    "    return poly"
   ]
  },
  {
   "cell_type": "markdown",
   "id": "83f841c1-74c1-4562-806a-cf9fdad66d1a",
   "metadata": {},
   "source": [
    "A simple polygon is a polygon without holes. You can create this by using `fl.polygon` and only specifying a hull."
   ]
  },
  {
   "cell_type": "code",
   "execution_count": null,
   "id": "28f151ec-2636-4810-9d3c-b648a5fda60f",
   "metadata": {},
   "outputs": [],
   "source": [
    "my_simple_poly = polygon(\n",
    "    hull=[(0, -2), (5, -2), (1, 2)],\n",
    ")\n",
    "my_simple_poly"
   ]
  },
  {
   "cell_type": "markdown",
   "id": "49a271df-65a2-4e1a-be39-17a14549ce20",
   "metadata": {},
   "source": [
    "General Polygons (with holes) can be specified by also specifying a `holes` keyword in `fl.polygon`:"
   ]
  },
  {
   "cell_type": "code",
   "execution_count": null,
   "id": "788a1bfb-99ad-4a09-afaf-624a761e7010",
   "metadata": {},
   "outputs": [],
   "source": [
    "my_poly = polygon(\n",
    "    hull=[(0, 0), (6, 0), (6, 4), (0, 3)],\n",
    "    holes=[[(3, 1), (4, 1), (4, 2), (3, 2)]]\n",
    ")\n",
    "my_poly"
   ]
  },
  {
   "cell_type": "code",
   "execution_count": null,
   "id": "06b9af6d-d592-455c-8ee4-a750038e137d",
   "metadata": {},
   "outputs": [],
   "source": [
    "# export\n",
    "def path(\n",
    "    pts: Points,\n",
    "    width: float,\n",
    "    *,\n",
    "    bgn_ext: float = 0.0,\n",
    "    end_ext: float = 0.0,\n",
    "    round: bool = False,\n",
    ") -> pya.DPath:\n",
    "    \"\"\"create a KLayout path\n",
    "\n",
    "    Args:\n",
    "        pts: the points that make the path\n",
    "        width: the width of the path\n",
    "        bgn_ext: the begin extension of the path\n",
    "        end_ext: the end extension of the path\n",
    "        round: round the ends of the path\n",
    "\n",
    "    Returns:\n",
    "        the path\n",
    "    \"\"\"\n",
    "    pts = [(p if isinstance(p, (pya.Point, pya.DPoint)) else point(*p)) for p in pts]\n",
    "    print(pts)\n",
    "    return pya.DPath(pts, width, bgn_ext, end_ext, round)"
   ]
  },
  {
   "cell_type": "code",
   "execution_count": null,
   "id": "7db9a373-c41c-4c9c-be7e-b50e8321175b",
   "metadata": {},
   "outputs": [],
   "source": [
    "my_path = path([(3.0, 4.0), (6.0, -1.0)], 1.2)\n",
    "my_path"
   ]
  },
  {
   "cell_type": "code",
   "execution_count": null,
   "id": "fa0d71f5-bd2b-4fc4-9a12-caeabc0f4fa9",
   "metadata": {},
   "outputs": [],
   "source": [
    "# export\n",
    "Shape = Union[pya.DBox, pya.DSimplePolygon, pya.DPolygon, pya.DPath, pya.Box, pya.SimplePolygon, pya.Polygon, pya.Path]\n",
    "def cell(\n",
    "    name: str,\n",
    "    *,\n",
    "    shapes: Optional[Dict[pya.LayerInfo, Shape]] = None,\n",
    "    child_cells: Optional[List[Union[pya.Cell, Tuple[pya.Cell, pya.CplxTrans]]]] = None,\n",
    ") -> pya.Cell:\n",
    "    \"\"\"create a KLayout cell\n",
    "\n",
    "    Args:\n",
    "        name: the name of the cell\n",
    "        shapes: the shapes to add to the cell\n",
    "        child_cells: the child cells to add to the cell\n",
    "\n",
    "    Returns:\n",
    "        the cell\n",
    "    \"\"\"\n",
    "    layout = pya.Layout()\n",
    "    cell = layout.create_cell(name)\n",
    "    cell._layout = layout  # make sure layout does not get destroyed\n",
    "    if shapes:\n",
    "        for lr, lrshapes in shapes.items():\n",
    "            if not isinstance(lr, pya.LayerInfo):\n",
    "                lr = layer(*lr)\n",
    "            lr = layout.layer(lr)\n",
    "            for i, shape in enumerate(lrshapes):\n",
    "                \n",
    "                # if isinstance(shape, np.ndarray):\n",
    "                if type(shape).__name__ == 'ndarray': # yeah... I don't want to import numpy...\n",
    "                    lrshapes[i] = polygon(shape)\n",
    "                    \n",
    "            for i, shape in enumerate(lrshapes):  # TODO: insert all at once?\n",
    "                cell.shapes(lr).insert(shape)\n",
    "    if child_cells:\n",
    "        cell_idxs = {}\n",
    "        for ref in child_cells:\n",
    "            if isinstance(ref, (str, pya.Cell, pya.PCellDeclaration)):\n",
    "                ref = reference(ref)\n",
    "            else:\n",
    "                ref = reference(*ref)\n",
    "            if isinstance(ref, Reference):\n",
    "                if ref.cell not in cell_idxs:\n",
    "                    cell_idxs[ref.cell] = _add_cell_to_layout(layout, ref.cell)\n",
    "                cell.insert(pya.CellInstArray(cell_idxs[ref.cell], ref.trans))\n",
    "            elif isinstance(ref, LibReference):\n",
    "                # don't store index in cell_idxs... Cell belongs to library and will not be copied.\n",
    "                idx = _add_lib_cell_to_layout(layout, ref.lib, ref.cell)\n",
    "                cell.insert(pya.CellInstArray(idx, ref.trans))\n",
    "            elif isinstance(ref, PCellReference):\n",
    "                raise ValueError(\n",
    "                    f\"One can only add pcells belonging to a library to to a new cell. \"\n",
    "                    f\"Add a pcell reference using the following string format to \"\n",
    "                    f\"represent the cell: '<libname>.<pcellname>'.\"\n",
    "                )\n",
    "            elif isinstance(ref, PCellLibReference):\n",
    "                # don't store index in cell_idxs... PCell belongs to library and will not be copied.\n",
    "                idx = _add_lib_pcell_to_layout(layout, ref.lib, ref.cell, ref.params)\n",
    "                cell.insert(pya.CellInstArray(idx, ref.trans))\n",
    "\n",
    "    return cell"
   ]
  },
  {
   "cell_type": "code",
   "execution_count": null,
   "id": "82a1aa01-bdf6-4441-ba2b-7eb3173c5501",
   "metadata": {},
   "outputs": [],
   "source": [
    "my_cell = cell(\n",
    "    name=\"cell0\", \n",
    "    shapes={\n",
    "        (10, 0): [my_simple_poly, my_poly],\n",
    "        (19, 0): [my_path],\n",
    "    },\n",
    ")\n",
    "my_cell"
   ]
  },
  {
   "cell_type": "markdown",
   "id": "6c2c7979-4a0b-4414-b805-7375149a2cf4",
   "metadata": {},
   "source": [
    "Child cells can also be added to a cell:"
   ]
  },
  {
   "cell_type": "code",
   "execution_count": null,
   "id": "161fb58d-5112-44ff-938c-1a2653c15ca9",
   "metadata": {},
   "outputs": [],
   "source": [
    "my_other_poly = polygon([(10, 0), (11, 0), (11, 0), (10, 5)])\n",
    "my_other_cell = cell(\n",
    "    name=\"cell1\", \n",
    "    shapes={(0, 0): [my_other_poly]},\n",
    "    child_cells=[my_cell],\n",
    ")\n",
    "my_other_cell"
   ]
  },
  {
   "cell_type": "code",
   "execution_count": null,
   "id": "690a1844-22cb-4f66-873d-5172063ff224",
   "metadata": {},
   "outputs": [],
   "source": [
    "# export\n",
    "def transform(\n",
    "    mag: float = 1.0,\n",
    "    rot: float = 0.0,\n",
    "    mirrx: bool = False,\n",
    "    x: float = 0.0,\n",
    "    y: float = 0.0,\n",
    ") -> pya.CplxTrans:\n",
    "    \"\"\"create a KLayout Transformation\n",
    "\n",
    "    Args:\n",
    "        mag: the magnitude of the transformation\n",
    "        rot: the rotation of the transformation\n",
    "        mirrx: mirror over the x-axis (x=0 line).\n",
    "        x: translation distance in the x-direction\n",
    "        y: translation distance in the y-direction\n",
    "\n",
    "    Returns:\n",
    "        the cell reference\n",
    "    \"\"\"\n",
    "    return pya.CplxTrans(mag, rot, mirrx, int(1000 * x), int(1000 * y))"
   ]
  },
  {
   "cell_type": "markdown",
   "id": "a3ac6d8d-b744-424a-a51c-aaea60f888c9",
   "metadata": {},
   "source": [
    "One can apply transformations to the child cell as well:"
   ]
  },
  {
   "cell_type": "code",
   "execution_count": null,
   "id": "d0402f6e-84cc-4927-b7c9-c14de6a39971",
   "metadata": {},
   "outputs": [],
   "source": [
    "my_third_poly = polygon([(0, 0), (6, 0), (6, 4), (0, 5)])\n",
    "my_third_cell = cell(\n",
    "    name=\"cell2\", \n",
    "    shapes={(0, 0): [my_third_poly]},\n",
    "    child_cells=[\n",
    "        (my_other_cell, transform(mirrx=True, x=12.0, y=3.0)),\n",
    "    ],\n",
    ")\n",
    "my_third_cell"
   ]
  },
  {
   "cell_type": "markdown",
   "id": "8db53b55-5fda-4265-9e15-7c18ea5e6aed",
   "metadata": {},
   "source": [
    "The combination of a child cell and a transformation is called an `instance` of a cell (sometimes also called a reference):"
   ]
  },
  {
   "cell_type": "code",
   "execution_count": null,
   "id": "58c43740-7686-45b4-ac4d-d15d23d9de11",
   "metadata": {},
   "outputs": [],
   "source": [
    "inst = next(my_third_cell.each_inst()) # get the only instance\n",
    "inst"
   ]
  },
  {
   "cell_type": "code",
   "execution_count": null,
   "id": "957503e0-ce66-4b7b-86a9-07ae6b44d4c7",
   "metadata": {},
   "outputs": [],
   "source": [
    "# export\n",
    "def layout(*, cells: Optional[List[pya.Cell]] = None) -> pya.Layout:\n",
    "    \"\"\"create a KLayout Layout\n",
    "\n",
    "    Args:\n",
    "        cells: the cells to add to the layout\n",
    "\n",
    "    Returns:\n",
    "        the KLayout layout\n",
    "    \"\"\"\n",
    "    layout = pya.Layout()\n",
    "    layout.dbu = 0.001  # hard coded for now\n",
    "    if cells:\n",
    "        add_cells_to_layout(layout, cells)\n",
    "    return layout"
   ]
  },
  {
   "cell_type": "markdown",
   "id": "818065f9-6f08-42f8-a30f-63ba38a66543",
   "metadata": {},
   "source": [
    "Finally, a layout is a collection of multiple cells. If a cell is not a sub cell of another cell, it will be considered a top-level cell. Moreover, one cannot have cyclic references within a layout."
   ]
  },
  {
   "cell_type": "markdown",
   "id": "231cf13d-2ff6-4db0-8724-3d82ac305fd9",
   "metadata": {},
   "source": [
    "Let's create a layout with two top-level cells:"
   ]
  },
  {
   "cell_type": "code",
   "execution_count": null,
   "id": "bcf1a948-5ab5-4005-9c88-0cd218ad8745",
   "metadata": {},
   "outputs": [],
   "source": [
    "my_independent_cell = cell(\n",
    "    name='independent_cell',\n",
    "    shapes={(19, 0): [polygon([(6, 0), (10, -2), (10, 0)])]}\n",
    ")\n",
    "    \n",
    "# even though we specify four cells for our layout, only two of them are independent\n",
    "# i.e. some of the cells we are added are actually child cells of other cells\n",
    "# top level cells in this case are 'my_independent_cell' and 'my_third_cell'\n",
    "my_layout = layout(cells=[my_independent_cell, my_cell, my_other_cell, my_third_cell])\n",
    "# my_layout = layout(cells=[my_independent_cell, my_third_cell]) # equivalent\n",
    "\n",
    "my_layout"
   ]
  },
  {
   "cell_type": "code",
   "execution_count": null,
   "id": "9ffec107-ac98-4317-aa7f-062289267ab6",
   "metadata": {},
   "outputs": [],
   "source": [
    "# export\n",
    "def library(\n",
    "    name: str,\n",
    "    *,\n",
    "    cells: Optional[List[pya.Cell]] = None,\n",
    "    pcells: Optional[List[pya.Cell]] = None,\n",
    "    description: str = \"\",\n",
    ") -> pya.Library:\n",
    "    \"\"\"create a KLayout Library\n",
    "\n",
    "    Args:\n",
    "        name: the name of the library\n",
    "        cells: the cells to add to the library\n",
    "        pcells: the pcells to add to the library\n",
    "\n",
    "    Returns:\n",
    "        the KLayout library\n",
    "    \"\"\"\n",
    "    lib = pya.Library()\n",
    "    if description:\n",
    "        lib.description = description\n",
    "    layout = lib.layout()\n",
    "    layout.dbu = 0.001  # hard coded for now\n",
    "    if cells:\n",
    "        add_cells_to_layout(layout, cells)\n",
    "    if pcells:\n",
    "        add_pcells_to_layout(layout, pcells)\n",
    "    lib.register(name)\n",
    "    return lib"
   ]
  }
 ],
 "metadata": {
  "kernelspec": {
   "display_name": "fl",
   "language": "python",
   "name": "fl"
  }
 },
 "nbformat": 4,
 "nbformat_minor": 5
}
