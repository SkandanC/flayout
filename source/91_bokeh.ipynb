{
 "cells": [
  {
   "cell_type": "code",
   "execution_count": null,
   "id": "e575b56f-0caf-49cf-a935-fe5b931395b2",
   "metadata": {
    "papermill": {
     "duration": 0.031087,
     "end_time": "2022-03-13T09:00:26.133949",
     "exception": false,
     "start_time": "2022-03-13T09:00:26.102862",
     "status": "completed"
    },
    "tags": []
   },
   "outputs": [],
   "source": [
    "# default_exp bokeh"
   ]
  },
  {
   "cell_type": "markdown",
   "id": "7031f6c1-8422-4092-85a3-ebd76b410b10",
   "metadata": {
    "papermill": {
     "duration": 0.02013,
     "end_time": "2022-03-13T09:00:26.174017",
     "exception": false,
     "start_time": "2022-03-13T09:00:26.153887",
     "status": "completed"
    },
    "tags": []
   },
   "source": [
    "# Extension - Bokeh\n",
    "> Bokeh visualization extension"
   ]
  },
  {
   "cell_type": "code",
   "execution_count": null,
   "id": "a7f7e0ea-b6b2-44ce-a2d9-20b0af0bef8f",
   "metadata": {
    "papermill": {
     "duration": 0.424964,
     "end_time": "2022-03-13T09:00:26.616603",
     "exception": false,
     "start_time": "2022-03-13T09:00:26.191639",
     "status": "completed"
    },
    "tags": []
   },
   "outputs": [],
   "source": [
    "# exporti\n",
    "from __future__ import annotations\n",
    "\n",
    "import glob\n",
    "import os\n",
    "from functools import lru_cache\n",
    "from typing import Dict, List, Optional, Tuple, Union\n",
    "\n",
    "import bokeh.io as bio\n",
    "import bokeh.models as bm\n",
    "import bokeh.plotting as bp\n",
    "import numpy as np\n",
    "import pkg_resources\n",
    "import pya\n",
    "from lxml import etree"
   ]
  },
  {
   "cell_type": "code",
   "execution_count": null,
   "id": "ccaeabe7-3260-45ca-a2d6-5c27873e0f15",
   "metadata": {
    "papermill": {
     "duration": 0.031125,
     "end_time": "2022-03-13T09:00:26.665678",
     "exception": false,
     "start_time": "2022-03-13T09:00:26.634553",
     "status": "completed"
    },
    "tags": []
   },
   "outputs": [],
   "source": [
    "# hide\n",
    "bio.output_notebook(hide_banner=True)"
   ]
  },
  {
   "cell_type": "code",
   "execution_count": null,
   "id": "8829c0cd-68a1-430e-ac98-e3417b748364",
   "metadata": {
    "papermill": {
     "duration": 0.025248,
     "end_time": "2022-03-13T09:00:26.708829",
     "exception": false,
     "start_time": "2022-03-13T09:00:26.683581",
     "status": "completed"
    },
    "tags": []
   },
   "outputs": [],
   "source": [
    "# export\n",
    "ALPHA = 0.3\n",
    "RED = \"#FF0000\"\n",
    "GREEN = \"#00FF00\"\n",
    "BLUE = \"#0000FF\"\n",
    "C0 = '#1f77b4'\n",
    "C1 = '#ff7f0e'\n",
    "C2 = '#2ca02c'\n",
    "C3 = '#d62728'\n",
    "C4 = '#9467bd'\n",
    "C5 = '#8c564b'\n",
    "C6 = '#e377c2'\n",
    "C7 = '#7f7f7f'\n",
    "C8 = '#bcbd22'\n",
    "C9 = '#17becf'"
   ]
  },
  {
   "cell_type": "code",
   "execution_count": null,
   "id": "cd18eb7b-4b16-421a-8a2b-150b94401585",
   "metadata": {
    "papermill": {
     "duration": 0.027033,
     "end_time": "2022-03-13T09:00:26.753461",
     "exception": false,
     "start_time": "2022-03-13T09:00:26.726428",
     "status": "completed"
    },
    "tags": []
   },
   "outputs": [],
   "source": [
    "# export\n",
    "LayerProperty = Dict[str, Union[str, bool]]\n",
    "LayerProperties = Dict[Tuple[int, int], LayerProperty]\n",
    "\n",
    "def get_lyp_path(path: Optional[str] = None):\n",
    "    # first, let's try \"~/.klayout\"\n",
    "    if path is None:\n",
    "        path = \"\"\n",
    "    path = os.path.abspath(os.path.expanduser(path))\n",
    "    if os.path.isdir(path):\n",
    "        possible_paths = glob.glob(f\"{path}/*.lyp\")\n",
    "        if not possible_paths:\n",
    "            path = get_lyp_path(pkg_resources.resource_filename(\"flayout\", \"layers.lyp\"))\n",
    "        else:\n",
    "            path = possible_paths[0]\n",
    "    return path"
   ]
  },
  {
   "cell_type": "code",
   "execution_count": null,
   "id": "2d3a2c3c-4625-4304-8a4c-6bce298028a6",
   "metadata": {
    "papermill": {
     "duration": 0.034551,
     "end_time": "2022-03-13T09:00:26.807165",
     "exception": false,
     "start_time": "2022-03-13T09:00:26.772614",
     "status": "completed"
    },
    "tags": []
   },
   "outputs": [],
   "source": [
    "get_lyp_path()"
   ]
  },
  {
   "cell_type": "code",
   "execution_count": null,
   "id": "d04f6281-3c09-4350-8a98-a7a52429f9fe",
   "metadata": {
    "papermill": {
     "duration": 0.027208,
     "end_time": "2022-03-13T09:00:26.853854",
     "exception": false,
     "start_time": "2022-03-13T09:00:26.826646",
     "status": "completed"
    },
    "tags": []
   },
   "outputs": [],
   "source": [
    "# export\n",
    "@lru_cache\n",
    "def read_lyp(path: Optional[str] = None) -> LayerProperties:\n",
    "    \"\"\"Load layer properties from a file\n",
    "\n",
    "    Args:\n",
    "        path: the path where to load the layer properties from\n",
    "\n",
    "    Returns:\n",
    "        a dictionary of layer property dictionaries\n",
    "    \"\"\"\n",
    "    path = get_lyp_path(path)\n",
    "    xml = etree.parse(path)\n",
    "    root = xml.getroot()\n",
    "    parsed: LayerProperties = {\n",
    "        (0, 0): {\n",
    "            \"name\": \"\",\n",
    "            \"frame-color\": \"#000000\",\n",
    "            \"fill-color\": \"#000000\",\n",
    "            \"visible\": True,\n",
    "        }\n",
    "    }\n",
    "    for properties in root.iter(\"properties\"):\n",
    "        name = properties.find(\"name\")\n",
    "        if name is not None:\n",
    "            name, *_ = name.text.split(\"(\")\n",
    "            name = name.strip()\n",
    "        else:\n",
    "            name = \"\"\n",
    "        \n",
    "        layerstr = properties.find(\"source\")\n",
    "        if layerstr is not None:\n",
    "            layerstr, *_ = layerstr.text.split(\"@\")\n",
    "            lr, dt = layerstr.strip().split(\"/\")\n",
    "            lr, dt = int(lr), int(dt)\n",
    "            parsed[lr, dt] = {\n",
    "                \"name\": name,\n",
    "                \"frame-color\": properties.find(\"frame-color\").text,\n",
    "                \"fill-color\": properties.find(\"fill-color\").text,\n",
    "                \"visible\": bool(properties.find(\"visible\").text),\n",
    "            }\n",
    "            \n",
    "    return parsed"
   ]
  },
  {
   "cell_type": "code",
   "execution_count": null,
   "id": "6f47525e-0a04-431b-ab77-4068eda87a7d",
   "metadata": {
    "papermill": {
     "duration": 0.034705,
     "end_time": "2022-03-13T09:00:26.907735",
     "exception": false,
     "start_time": "2022-03-13T09:00:26.873030",
     "status": "completed"
    },
    "tags": []
   },
   "outputs": [],
   "source": [
    "lyp = read_lyp()\n",
    "{k: v for k, v in lyp.items() if k in [(19, 0), (10001, 0)]}"
   ]
  },
  {
   "cell_type": "code",
   "execution_count": null,
   "id": "579d7d05-e00b-4b4b-b102-bfb2229a5c4f",
   "metadata": {
    "papermill": {
     "duration": 0.025436,
     "end_time": "2022-03-13T09:00:26.951015",
     "exception": false,
     "start_time": "2022-03-13T09:00:26.925579",
     "status": "completed"
    },
    "tags": []
   },
   "outputs": [],
   "source": [
    "# export\n",
    "@lru_cache\n",
    "def get_lyp(\n",
    "    layer_info: Union[pya.LayerInfo, Tuple[int, int]], path: Optional[str] = None\n",
    ") -> LayerProperty:\n",
    "    \"\"\"Load layer properties for a specific layer from a file\n",
    "\n",
    "    Args:\n",
    "        layer_info: the layer info tuple to load the layer properties for\n",
    "        path: the path where to load the layer properties from\n",
    "\n",
    "    Returns:\n",
    "        a layer property dictionary\n",
    "    \"\"\"\n",
    "    if isinstance(layer_info, pya.LayerInfo):\n",
    "        layer, datatype = layer_info.layer, layer_info.datatype # type: ignore\n",
    "    else:\n",
    "        layer, datatype, *_ = layer_info\n",
    "    lyps = read_lyp(path=path)\n",
    "    lyp = lyps.get((layer, datatype), lyps[0, 0])\n",
    "    return lyp"
   ]
  },
  {
   "cell_type": "code",
   "execution_count": null,
   "id": "a739a021-45b8-4860-9d8b-6aff145374d2",
   "metadata": {
    "papermill": {
     "duration": 0.028321,
     "end_time": "2022-03-13T09:00:26.998063",
     "exception": false,
     "start_time": "2022-03-13T09:00:26.969742",
     "status": "completed"
    },
    "tags": []
   },
   "outputs": [],
   "source": [
    "get_lyp((19, 0))"
   ]
  },
  {
   "cell_type": "code",
   "execution_count": null,
   "id": "19e329c2-9900-4745-8c5e-e9f247043b49",
   "metadata": {
    "papermill": {
     "duration": 0.032004,
     "end_time": "2022-03-13T09:00:27.047954",
     "exception": false,
     "start_time": "2022-03-13T09:00:27.015950",
     "status": "completed"
    },
    "tags": []
   },
   "outputs": [],
   "source": [
    "# exporti\n",
    "def _get_range(box: Union[pya.Box, pya.DBox]) -> Tuple[float, float, float, float, float, float]:\n",
    "    \"\"\"Get the plotting bbox for a klayout box\n",
    "\n",
    "    Args:\n",
    "        poly: the polygon to create the bbox for\n",
    "\n",
    "    returns:\n",
    "        x1, x2, y1, y2, w, h\n",
    "    \"\"\"\n",
    "    if isinstance(box, pya.Box):\n",
    "        box = box.to_dtype()\n",
    "    x1, x2 = min(box.p1.x, box.p2.x), max(box.p1.x, box.p2.x)\n",
    "    y1, y2 = min(box.p1.y, box.p2.y), max(box.p1.y, box.p2.y)\n",
    "    w, h = x2 - x1, y2 - y1\n",
    "    if w > 5 * h:\n",
    "        y, h = 0.5 * (y1 + y2), w / 5\n",
    "        y1, y2 = y - h / 2, y + h / 2\n",
    "    if h > 5 * w:\n",
    "        x, w = 0.5 * (x1 + x2), h / 5\n",
    "        x1, x2 = x - w / 2, x + w / 2\n",
    "    if w < 2.0:\n",
    "        x1, x2 = (x2 + x1) / 2 - 1.0, (x2 + x1) / 2 + 1.0\n",
    "        w = 2.0\n",
    "    if h < 2.0:\n",
    "        y1, y2 = (y2 + y1) / 2 - 1.0, (y2 + y1) / 2 + 1.0\n",
    "        h = 2.0\n",
    "    return x1, x2, y1, y2, w, h"
   ]
  },
  {
   "cell_type": "code",
   "execution_count": null,
   "id": "064d8dcf-f3dc-4e77-a6ef-83de2a585638",
   "metadata": {
    "papermill": {
     "duration": 0.025813,
     "end_time": "2022-03-13T09:00:27.091669",
     "exception": false,
     "start_time": "2022-03-13T09:00:27.065856",
     "status": "completed"
    },
    "tags": []
   },
   "outputs": [],
   "source": [
    "box = pya.Box(0.0, 0.0, 5.0, 2.5)\n",
    "_get_range(box)"
   ]
  },
  {
   "cell_type": "code",
   "execution_count": null,
   "id": "2e786a55-fca5-4cf3-8932-41cb7f7044cf",
   "metadata": {
    "papermill": {
     "duration": 0.02504,
     "end_time": "2022-03-13T09:00:27.135125",
     "exception": false,
     "start_time": "2022-03-13T09:00:27.110085",
     "status": "completed"
    },
    "tags": []
   },
   "outputs": [],
   "source": [
    "box = pya.DBox(0.0, 0.0, 5.0, 2.5)\n",
    "#box = box.enlarge(pya.DVector(0.5, 0.5))\n",
    "_get_range(box)"
   ]
  },
  {
   "cell_type": "code",
   "execution_count": null,
   "id": "9eac0379-4bc4-4ec4-a5da-55a6b7cc4974",
   "metadata": {
    "papermill": {
     "duration": 0.032239,
     "end_time": "2022-03-13T09:00:27.187477",
     "exception": false,
     "start_time": "2022-03-13T09:00:27.155238",
     "status": "completed"
    },
    "tags": []
   },
   "outputs": [],
   "source": [
    "# export\n",
    "def new_plot(box: Union[pya.Box, pya.DBox], max_dim: Optional[float] = None) -> bp.Figure:\n",
    "    \"\"\"Create a new plot with limits determined by a bbox\n",
    "\n",
    "    Args:\n",
    "        box: the bbox of the polygon or cell to create the figure for\n",
    "\n",
    "    Returns:\n",
    "        a bokeh Figure.\n",
    "    \"\"\"\n",
    "    if max_dim is None:\n",
    "        max_dim = 500\n",
    "    x0, x1, y0, y1, w, h = _get_range(box)\n",
    "    if w > h:\n",
    "        plot_width = max_dim\n",
    "        plot_height = max_dim * h / w\n",
    "    else:\n",
    "        plot_height = max_dim\n",
    "        plot_width = max_dim * w / h\n",
    "    plot = bp.figure(\n",
    "        plot_width=round(plot_width),\n",
    "        plot_height=round(plot_height),\n",
    "        x_range=(x0, x1),\n",
    "        y_range=(y0, y1),\n",
    "        match_aspect=True,\n",
    "        toolbar_location=None,\n",
    "        tools=[bm.PanTool(), zoom := bm.WheelZoomTool()],\n",
    "    )\n",
    "    plot.toolbar.active_scroll = zoom  # type: ignore\n",
    "    return plot"
   ]
  },
  {
   "cell_type": "code",
   "execution_count": null,
   "id": "a0735379-fc00-4f7b-a03a-644e06fc080d",
   "metadata": {
    "papermill": {
     "duration": 0.049726,
     "end_time": "2022-03-13T09:00:27.256787",
     "exception": false,
     "start_time": "2022-03-13T09:00:27.207061",
     "status": "completed"
    },
    "tags": []
   },
   "outputs": [],
   "source": [
    "p = new_plot(box)\n",
    "p.line([0, 1], [0, 1])\n",
    "bio.show(p)"
   ]
  },
  {
   "cell_type": "code",
   "execution_count": null,
   "id": "5cc20edd-4ea8-488a-bdf3-444f2ca92301",
   "metadata": {
    "papermill": {
     "duration": 0.034791,
     "end_time": "2022-03-13T09:00:27.311952",
     "exception": false,
     "start_time": "2022-03-13T09:00:27.277161",
     "status": "completed"
    },
    "tags": []
   },
   "outputs": [],
   "source": [
    "# export\n",
    "def adjust_plot(plot: bp.Figure, box: Union[pya.Box, pya.DBox], max_dim: Optional[float] = None) -> bp.Figure:\n",
    "    \"\"\"Adjust a plot with limits determined by a bbox\n",
    "\n",
    "    Args:\n",
    "        plot: the plot to adjust the limits for\n",
    "        box: the bbox of the polygon or cell to create the figure for\n",
    "\n",
    "    Returns:\n",
    "        a bokeh Figure.\n",
    "    \"\"\"\n",
    "    if plot is None:\n",
    "        return new_plot(box, max_dim=max_dim)\n",
    "    if max_dim is None:\n",
    "        max_dim = max(plot.height, plot.width)\n",
    "    assert max_dim is not None\n",
    "    x0, x1, y0, y1, w, h = _get_range(box)\n",
    "    if w > h:\n",
    "        plot_width = max_dim\n",
    "        plot_height = max_dim * h / w\n",
    "    else:\n",
    "        plot_height = max_dim\n",
    "        plot_width = max_dim * w / h\n",
    "    plot.plot_width = round(plot_width)\n",
    "    plot.plot_height = round(plot_height)\n",
    "    plot.x_range = bm.Range1d(start=x0, end=x1)\n",
    "    plot.y_range = bm.Range1d(start=y0, end=y1)\n",
    "    return plot"
   ]
  },
  {
   "cell_type": "code",
   "execution_count": null,
   "id": "7955840b-27d4-4dd1-bec3-05fdfd75abfc",
   "metadata": {
    "papermill": {
     "duration": 0.045832,
     "end_time": "2022-03-13T09:00:27.380349",
     "exception": false,
     "start_time": "2022-03-13T09:00:27.334517",
     "status": "completed"
    },
    "tags": []
   },
   "outputs": [],
   "source": [
    "fig = adjust_plot(p, pya.DBox(-1.0, -1.0, 5.0, 3.0))\n",
    "bio.show(fig)"
   ]
  },
  {
   "cell_type": "code",
   "execution_count": null,
   "id": "557b15f1-983c-4a98-9a18-8b2f3c27536a",
   "metadata": {
    "papermill": {
     "duration": 0.036466,
     "end_time": "2022-03-13T09:00:27.439123",
     "exception": false,
     "start_time": "2022-03-13T09:00:27.402657",
     "status": "completed"
    },
    "tags": []
   },
   "outputs": [],
   "source": [
    "# export\n",
    "def draw_polys(\n",
    "    plot: bp.Figure,\n",
    "    polys: List[Union[pya.Polygon, pya.SimplePolygon, pya.DPolygon, pya.DSimplePolygon]],\n",
    "    layer=(0, 0),\n",
    "    fill_color=None,\n",
    "    line_color=None,\n",
    "    fill_alpha=ALPHA,\n",
    "):\n",
    "    \"\"\"draw polygons with bokeh\n",
    "\n",
    "    Args:\n",
    "        plot: the plot to draw the polygon in\n",
    "        polys: the polygons to draw\n",
    "\n",
    "    Returns:\n",
    "        the (inplace) modified plot containing the polygons\n",
    "    \"\"\"\n",
    "    # some typing definitions for our own sanity...\n",
    "\n",
    "    # Array of single coordinates (x OR y): ndim==1, shape=(N,).\n",
    "    SimplePolygon = np.ndarray\n",
    "\n",
    "    # List of coordinate arrays (first element: hull, other elements: holes)\n",
    "    Polygon = List[SimplePolygon]\n",
    "\n",
    "    # List of individual polygons (bokeh will XOR those polygons -> usually 1 Polygon per MultiPolygon)\n",
    "    MultiPolygon = List[Polygon]\n",
    "\n",
    "    # List of multi polygons\n",
    "    MultiPolygons = List[MultiPolygon]\n",
    "\n",
    "    xs: MultiPolygons = []\n",
    "    ys: MultiPolygons = []\n",
    "\n",
    "    for poly in polys:\n",
    "        if isinstance(poly, (pya.Polygon, pya.SimplePolygon)):\n",
    "            poly = poly.to_dtype()\n",
    "\n",
    "        if isinstance(poly, pya.DPolygon):\n",
    "            hull = np.asarray([(p.x, p.y) for p in poly.each_point_hull()])\n",
    "            holes = [\n",
    "                np.asarray([(p.x, p.y) for p in poly.each_point_hole(i)])\n",
    "                for i in range(poly.holes())\n",
    "            ]\n",
    "        elif isinstance(poly, pya.DSimplePolygon):\n",
    "            hull = np.asarray([(p.x, p.y) for p in poly.each_point()])\n",
    "            holes = []\n",
    "        else:\n",
    "            raise ValueError(\n",
    "                f\"Invalid polygon type. Got: {type(poly)}. \"\n",
    "                f\"Expected 'DPolygon' or 'DSimplePolygon'\"\n",
    "            )\n",
    "            \n",
    "        if hull.shape[0] < 3:\n",
    "            continue\n",
    "\n",
    "        plot = adjust_plot(\n",
    "            plot, pya.Polygon([pya.DPoint(x, y) for x, y in hull]).bbox()\n",
    "        )\n",
    "\n",
    "        xs_: MultiPolygon = [[hull[:, 0], *(h[:, 0] for h in holes)]]\n",
    "        ys_: MultiPolygon = [[hull[:, 1], *(h[:, 1] for h in holes)]]\n",
    "        xs.append(xs_)\n",
    "        ys.append(ys_)\n",
    "\n",
    "    source = bm.ColumnDataSource({\"xs\": xs, \"ys\": ys})\n",
    "    lyp = get_lyp(layer)\n",
    "    patch = bm.MultiPolygons(\n",
    "        xs=\"xs\",\n",
    "        ys=\"ys\",\n",
    "        fill_color=fill_color or lyp[\"fill-color\"],\n",
    "        fill_alpha=fill_alpha,\n",
    "        line_color=line_color or lyp[\"frame-color\"],\n",
    "    )\n",
    "    plot.add_glyph(source, patch)\n",
    "    return plot"
   ]
  },
  {
   "cell_type": "code",
   "execution_count": null,
   "id": "9c949c3c-ed3f-44b1-a0e1-c6f44a075b3e",
   "metadata": {
    "papermill": {
     "duration": 0.054489,
     "end_time": "2022-03-13T09:00:27.514371",
     "exception": false,
     "start_time": "2022-03-13T09:00:27.459882",
     "status": "completed"
    },
    "tags": []
   },
   "outputs": [],
   "source": [
    "fig = new_plot(box)\n",
    "draw_polys(fig, [pya.DPolygon([pya.DPoint(0, 0), pya.DPoint(2, 0), pya.DPoint(3, 1)])])\n",
    "bio.show(fig)"
   ]
  },
  {
   "cell_type": "code",
   "execution_count": null,
   "id": "a54d3152-b0eb-46f7-8e32-276af7f848cb",
   "metadata": {
    "papermill": {
     "duration": 0.033024,
     "end_time": "2022-03-13T09:00:27.568733",
     "exception": false,
     "start_time": "2022-03-13T09:00:27.535709",
     "status": "completed"
    },
    "tags": []
   },
   "outputs": [],
   "source": [
    "# export\n",
    "def draw_poly(\n",
    "    plot: bp.Figure,\n",
    "    poly: Union[pya.Polygon, pya.SimplePolygon, pya.DPolygon, pya.DSimplePolygon],\n",
    "    layer=(0, 0),\n",
    "    fill_color=None,\n",
    "    line_color=None,\n",
    "    fill_alpha=ALPHA,\n",
    "):\n",
    "    \"\"\"draw a polygon with bokeh\n",
    "\n",
    "    Args:\n",
    "        plot: the plot to draw the polygon in\n",
    "        poly: the polygon to draw\n",
    "\n",
    "    Returns:\n",
    "        the (inplace) modified plot containing the polygon\n",
    "    \"\"\"\n",
    "    plot = adjust_plot(plot, poly.bbox())\n",
    "    return draw_polys(\n",
    "        plot,\n",
    "        [poly],\n",
    "        layer=layer,\n",
    "        fill_color=fill_color,\n",
    "        line_color=line_color,\n",
    "        fill_alpha=fill_alpha,\n",
    "    )"
   ]
  },
  {
   "cell_type": "code",
   "execution_count": null,
   "id": "8a51ba82-24f3-4be9-a3a4-93eb2f30625c",
   "metadata": {
    "papermill": {
     "duration": 0.05622,
     "end_time": "2022-03-13T09:00:27.646363",
     "exception": false,
     "start_time": "2022-03-13T09:00:27.590143",
     "status": "completed"
    },
    "tags": []
   },
   "outputs": [],
   "source": [
    "fig = new_plot(box)\n",
    "draw_poly(fig, pya.DPolygon([pya.DPoint(0, 0), pya.DPoint(2, 0), pya.DPoint(3, 1)]), layer=(19, 0))\n",
    "bio.show(fig)"
   ]
  },
  {
   "cell_type": "code",
   "execution_count": null,
   "id": "d1adf85b-b520-4638-810d-466cd9d2e504",
   "metadata": {
    "papermill": {
     "duration": 0.032954,
     "end_time": "2022-03-13T09:00:27.701295",
     "exception": false,
     "start_time": "2022-03-13T09:00:27.668341",
     "status": "completed"
    },
    "tags": []
   },
   "outputs": [],
   "source": [
    "# export\n",
    "def draw_path(\n",
    "    plot: bp.Figure,\n",
    "    path: Union[pya.Path, pya.DPath],\n",
    "    layer=(0, 0),\n",
    "    fill_color=None,\n",
    "    line_color=None,\n",
    "    fill_alpha=ALPHA,\n",
    "):\n",
    "    \"\"\"draw a path with bokeh\n",
    "\n",
    "    Args:\n",
    "        plot: the plot to draw the path in\n",
    "        poly: the path to draw\n",
    "\n",
    "    Returns:\n",
    "        the (inplace) modified plot containing the path\n",
    "    \"\"\"\n",
    "    return draw_polys(\n",
    "        plot,\n",
    "        [path.polygon()],\n",
    "        layer=layer,\n",
    "        fill_color=fill_color,\n",
    "        line_color=line_color,\n",
    "        fill_alpha=fill_alpha,\n",
    "    )"
   ]
  },
  {
   "cell_type": "code",
   "execution_count": null,
   "id": "829d9970-a1ca-44e6-8345-b53542f09188",
   "metadata": {
    "papermill": {
     "duration": 0.057371,
     "end_time": "2022-03-13T09:00:27.780042",
     "exception": false,
     "start_time": "2022-03-13T09:00:27.722671",
     "status": "completed"
    },
    "tags": []
   },
   "outputs": [],
   "source": [
    "fig = new_plot(box)\n",
    "path = pya.DPath([pya.Point(0, 0), pya.Point(10, 0)], 3.0)\n",
    "draw_path(fig, path)\n",
    "bio.show(fig)"
   ]
  },
  {
   "cell_type": "code",
   "execution_count": null,
   "id": "f0878503-a639-4402-ae92-49e242f2bd73",
   "metadata": {
    "papermill": {
     "duration": 0.035972,
     "end_time": "2022-03-13T09:00:27.838548",
     "exception": false,
     "start_time": "2022-03-13T09:00:27.802576",
     "status": "completed"
    },
    "tags": []
   },
   "outputs": [],
   "source": [
    "# export\n",
    "def draw_point(\n",
    "    plot: bp.Figure,\n",
    "    p: Union[pya.Point, pya.DPoint],\n",
    "    layer=(0, 0),\n",
    "    fill_color=None,\n",
    "    line_color=None,\n",
    "    fill_alpha=ALPHA,\n",
    "):\n",
    "    \"\"\"draw a point with bokeh\n",
    "\n",
    "    Args:\n",
    "        plot: the plot to draw the point in\n",
    "        p: the point to draw\n",
    "\n",
    "    Returns:\n",
    "        the (inplace) modified plot containing the point\n",
    "    \"\"\"\n",
    "    if isinstance(p, pya.Point):\n",
    "        p = p.to_dtype()\n",
    "    v = pya.DVector(1.0, 1.0)\n",
    "    box = pya.DBox(p - v, p + v)\n",
    "    plot = adjust_plot(plot, box)\n",
    "    *_, w, h = _get_range(box)\n",
    "    radius = max(w, h) / 30\n",
    "    lyp = get_lyp(layer)\n",
    "    plot.circle(\n",
    "        p.x,\n",
    "        p.y,\n",
    "        fill_alpha=fill_alpha,\n",
    "        fill_color=fill_color or lyp[\"fill-color\"],\n",
    "        line_color=line_color or [\"frame-color\"],\n",
    "        radius=radius,\n",
    "    )\n",
    "    return plot"
   ]
  },
  {
   "cell_type": "code",
   "execution_count": null,
   "id": "e2592aa9-990f-4d5e-9d70-7e3f8f677290",
   "metadata": {
    "papermill": {
     "duration": 0.064122,
     "end_time": "2022-03-13T09:00:27.927504",
     "exception": false,
     "start_time": "2022-03-13T09:00:27.863382",
     "status": "completed"
    },
    "tags": []
   },
   "outputs": [],
   "source": [
    "fig = new_plot(box)\n",
    "draw_point(fig, pya.Point(0, 0))\n",
    "bio.show(fig)"
   ]
  },
  {
   "cell_type": "code",
   "execution_count": null,
   "id": "4d710d58-f8e3-44a8-b0d1-eea2c794a3ac",
   "metadata": {
    "papermill": {
     "duration": 0.036898,
     "end_time": "2022-03-13T09:00:27.986881",
     "exception": false,
     "start_time": "2022-03-13T09:00:27.949983",
     "status": "completed"
    },
    "tags": []
   },
   "outputs": [],
   "source": [
    "# export\n",
    "def draw_vector(\n",
    "    plot: bp.Figure,\n",
    "    v: Union[pya.Vector, pya.DVector],\n",
    "    layer=(0, 0),\n",
    "    fill_color=None,\n",
    "    line_color=None,\n",
    "    fill_alpha=ALPHA,\n",
    "):\n",
    "    \"\"\"draw a vector as an arrow with bokeh\n",
    "\n",
    "    Args:\n",
    "        plot: the plot to draw the vector in\n",
    "        v: the vector to draw\n",
    "\n",
    "    Returns:\n",
    "        the (inplace) modified plot containing the vector\n",
    "    \"\"\"\n",
    "    if isinstance(v, pya.Vector):\n",
    "        v = pya.DVector(v.x / 1000.0, v.y / 1000.0)\n",
    "    box = pya.DBox(0, 0, v.x, v.y)\n",
    "    plot = adjust_plot(plot, box, max_dim=250)\n",
    "    lyp = get_lyp(layer)\n",
    "    arrow_head = bm.VeeHead(\n",
    "        fill_alpha=fill_alpha,\n",
    "        fill_color=fill_color or lyp[\"fill-color\"],\n",
    "        line_color=line_color or lyp[\"frame-color\"],\n",
    "    )\n",
    "    arrow = bm.Arrow(\n",
    "        end=arrow_head,\n",
    "        x_start=0,\n",
    "        y_start=0,\n",
    "        x_end=v.x,\n",
    "        y_end=v.y,\n",
    "        line_color=line_color or lyp[\"frame-color\"],\n",
    "    )\n",
    "    plot.add_layout(arrow)\n",
    "    return plot"
   ]
  },
  {
   "cell_type": "code",
   "execution_count": null,
   "id": "665ca0da-05f9-4d8a-b1a8-dbbdd17ff64e",
   "metadata": {
    "papermill": {
     "duration": 0.065067,
     "end_time": "2022-03-13T09:00:28.075022",
     "exception": false,
     "start_time": "2022-03-13T09:00:28.009955",
     "status": "completed"
    },
    "tags": []
   },
   "outputs": [],
   "source": [
    "fig = new_plot(box)\n",
    "draw_vector(fig, pya.DVector(3, 4))\n",
    "bio.show(fig)"
   ]
  },
  {
   "cell_type": "code",
   "execution_count": null,
   "id": "95f5d1c6-b4c3-4e0e-940d-4d0569d27340",
   "metadata": {
    "papermill": {
     "duration": 0.037105,
     "end_time": "2022-03-13T09:00:28.137034",
     "exception": false,
     "start_time": "2022-03-13T09:00:28.099929",
     "status": "completed"
    },
    "tags": []
   },
   "outputs": [],
   "source": [
    "# export\n",
    "def _box_to_poly(box: Union[pya.Box, pya.DBox]):\n",
    "    \"\"\"convert a box into a polygon\n",
    "\n",
    "    Args:\n",
    "        box: the box to convert into a polygon\n",
    "\n",
    "    Returns:\n",
    "        the polygon\n",
    "    \"\"\"\n",
    "    if isinstance(box, pya.Box):\n",
    "        box = box.to_dtype()\n",
    "    x0, y0 = box.p1.x, box.p1.y\n",
    "    x1, y1 = box.p2.x, box.p2.y\n",
    "    return pya.DPolygon(\n",
    "        [pya.DPoint(x0, y0), pya.DPoint(x1, y0), pya.DPoint(x1, y1), pya.DPoint(x0, y1)]\n",
    "    )\n",
    "\n",
    "\n",
    "def draw_box(\n",
    "    plot: bp.Figure,\n",
    "    box: Union[pya.Box, pya.DBox],\n",
    "    fill_alpha=0.0,\n",
    "    fill_color=\"#000000\",\n",
    "    line_color=GREEN,\n",
    "):\n",
    "    \"\"\"draw a box with bokeh\n",
    "\n",
    "    Args:\n",
    "        plot: the plot to draw the box in\n",
    "        box: the box to draw\n",
    "\n",
    "    Returns:\n",
    "        the (inplace) modified plot containing the box\n",
    "    \"\"\"\n",
    "    plot = adjust_plot(plot, box)\n",
    "    poly = _box_to_poly(box)\n",
    "    return draw_poly(\n",
    "        plot, poly, fill_alpha=fill_alpha, fill_color=fill_color, line_color=line_color\n",
    "    )"
   ]
  },
  {
   "cell_type": "code",
   "execution_count": null,
   "id": "7ddc16b7-d188-4d4c-9667-dd08c37069dd",
   "metadata": {
    "papermill": {
     "duration": 0.068806,
     "end_time": "2022-03-13T09:00:28.232070",
     "exception": false,
     "start_time": "2022-03-13T09:00:28.163264",
     "status": "completed"
    },
    "tags": []
   },
   "outputs": [],
   "source": [
    "fig = new_plot(box)\n",
    "draw_box(fig, pya.DBox(1.0, 2.0, 4.0, 3.0))\n",
    "bio.show(fig)"
   ]
  },
  {
   "cell_type": "code",
   "execution_count": null,
   "id": "b141005a-0e36-491a-b387-e3df71069d2e",
   "metadata": {
    "papermill": {
     "duration": 0.037471,
     "end_time": "2022-03-13T09:00:28.294144",
     "exception": false,
     "start_time": "2022-03-13T09:00:28.256673",
     "status": "completed"
    },
    "tags": []
   },
   "outputs": [],
   "source": [
    "# export\n",
    "def _draw_shapes(plot, shapes, layer=(0, 0)):\n",
    "    \"\"\"draw shapes with bokeh\n",
    "\n",
    "    Args:\n",
    "        plot: the plot to draw the shape in\n",
    "        shapes: the shapes to draw\n",
    "\n",
    "    Returns:\n",
    "        the (inplace) modified plot containing the shape\n",
    "    \"\"\"\n",
    "    polys = []\n",
    "    for shape in shapes:\n",
    "        if shape.is_box():\n",
    "            polys.append(_box_to_poly(shape.dbbox()))\n",
    "        elif shape.is_path():\n",
    "            polys.append(shape.dpath.polygon())\n",
    "        elif shape.is_polygon():\n",
    "            polys.append(shape.dpolygon)\n",
    "        elif shape.is_simple_polygon():\n",
    "            polys.append(shape.dsimple_polygon)\n",
    "    #for poly in polys:\n",
    "    #    plot = draw_poly(plot, poly, layer=layer)\n",
    "    return draw_polys(plot, polys, layer=layer)\n",
    "\n",
    "def draw_cell(plot, cell, draw_bbox=True):\n",
    "    \"\"\"draw a cell with bokeh\n",
    "\n",
    "    Args:\n",
    "        plot: the plot to draw the cell in\n",
    "        cell: the cell to draw\n",
    "\n",
    "    Returns:\n",
    "        the (inplace) modified plot containing the cell\n",
    "    \"\"\"\n",
    "    layout = pya.Layout()\n",
    "    new_cell = layout.create_cell(cell.name)\n",
    "    new_cell.copy_tree(cell)\n",
    "    \n",
    "    cell = new_cell\n",
    "    cell = cell.flatten(-1, True)\n",
    "    box = cell.dbbox()\n",
    "    plot = adjust_plot(plot, box, max_dim=500)\n",
    "    for lr in layout.layer_infos():\n",
    "        shapes = [*cell.shapes(layout.layer(lr)).each()]\n",
    "        plot = _draw_shapes(plot, shapes, layer=(lr.layer, lr.datatype))\n",
    "    if draw_bbox:\n",
    "        draw_box(plot, box)\n",
    "    return plot"
   ]
  },
  {
   "cell_type": "code",
   "execution_count": null,
   "id": "d6b5788c-17e6-4946-bbe6-86c53022edca",
   "metadata": {
    "papermill": {
     "duration": 0.030889,
     "end_time": "2022-03-13T09:00:28.350525",
     "exception": false,
     "start_time": "2022-03-13T09:00:28.319636",
     "status": "completed"
    },
    "tags": []
   },
   "outputs": [],
   "source": [
    "# export\n",
    "def draw_inst(plot, inst, draw_bbox=True, draw_arrow=True):\n",
    "    \"\"\"draw a instance with bokeh\n",
    "\n",
    "    Args:\n",
    "        plot: the plot to draw the instance in\n",
    "        inst: the instance to draw\n",
    "\n",
    "    Returns:\n",
    "        the (inplace) modified plot with containing the instance\n",
    "    \"\"\"\n",
    "    _layout = pya.Layout()\n",
    "    _cell = _layout.create_cell(inst.cell.name)\n",
    "    _cell.copy_tree(inst.cell)\n",
    "    _refcell = _layout.create_cell(f\"ref_{inst.cell.name}\")\n",
    "    _refcell.insert(pya.CellInstArray(_layout.cell_by_name(inst.cell.name), inst.trans))\n",
    "\n",
    "    plot = new_plot(_refcell.dbbox() + pya.Point(0, 0))\n",
    "    plot = draw_vector(plot, inst.trans.disp)\n",
    "    plot = draw_cell(plot, _refcell)\n",
    "    plot = adjust_plot(plot, _refcell.dbbox() + pya.Point(0, 0))\n",
    "    return plot"
   ]
  },
  {
   "cell_type": "code",
   "execution_count": null,
   "id": "af153c3d-d908-48a9-9f20-ab2ba7c697bb",
   "metadata": {
    "papermill": {
     "duration": 0.033889,
     "end_time": "2022-03-13T09:00:28.408518",
     "exception": false,
     "start_time": "2022-03-13T09:00:28.374629",
     "status": "completed"
    },
    "tags": []
   },
   "outputs": [],
   "source": [
    "# export\n",
    "def draw_layout(plot, layout):\n",
    "    \"\"\"draw a layout with bokeh\n",
    "\n",
    "    Args:\n",
    "        plot: the plot to draw the layout in\n",
    "        layout: the layout to draw\n",
    "\n",
    "    Returns:\n",
    "        the (inplace) modified plot with containing the layout\n",
    "    \"\"\"\n",
    "    plots = bp.Column(*[draw_cell(plot, cell) for cell in layout.top_cells()])\n",
    "    return plots"
   ]
  }
 ],
 "metadata": {
  "kernelspec": {
   "display_name": "fl",
   "language": "python",
   "name": "fl"
  },
  "language_info": {
   "codemirror_mode": {
    "name": "ipython",
    "version": 3
   },
   "file_extension": ".py",
   "mimetype": "text/x-python",
   "name": "python",
   "nbconvert_exporter": "python",
   "pygments_lexer": "ipython3",
   "version": "3.10.2"
  },
  "papermill": {
   "default_parameters": {},
   "duration": 3.733709,
   "end_time": "2022-03-13T09:00:28.650834",
   "environment_variables": {},
   "exception": null,
   "input_path": "./source/01_bokeh.ipynb",
   "output_path": "./source/01_bokeh.ipynb",
   "parameters": {},
   "start_time": "2022-03-13T09:00:24.917125",
   "version": "2.3.4"
  }
 },
 "nbformat": 4,
 "nbformat_minor": 5
}
