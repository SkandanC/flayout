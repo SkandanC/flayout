{
 "cells": [
  {
   "cell_type": "code",
   "execution_count": null,
   "id": "1ebbed71-340c-4363-ad7c-4d852c3658e9",
   "metadata": {
    "papermill": {
     "duration": 0.019707,
     "end_time": "2022-03-13T09:00:30.115707",
     "exception": false,
     "start_time": "2022-03-13T09:00:30.096000",
     "status": "completed"
    },
    "tags": []
   },
   "outputs": [],
   "source": [
    "# default_exp notebook"
   ]
  },
  {
   "cell_type": "markdown",
   "id": "94d088e4-fbfd-400c-84de-3c5531be520a",
   "metadata": {
    "papermill": {
     "duration": 0.005815,
     "end_time": "2022-03-13T09:00:30.128281",
     "exception": false,
     "start_time": "2022-03-13T09:00:30.122466",
     "status": "completed"
    },
    "tags": []
   },
   "source": [
    "# Notebook\n",
    "> Importing this library yields nice bokeh-powered notebook previews of your cells and polygons."
   ]
  },
  {
   "cell_type": "code",
   "execution_count": null,
   "id": "e79cbfb8-1dfb-4e9e-9566-732677ce222f",
   "metadata": {
    "papermill": {
     "duration": 0.425264,
     "end_time": "2022-03-13T09:00:30.558363",
     "exception": false,
     "start_time": "2022-03-13T09:00:30.133099",
     "status": "completed"
    },
    "tags": []
   },
   "outputs": [],
   "source": [
    "# exporti\n",
    "import flayout.bokeh as flbk\n",
    "import pya\n",
    "from bokeh.embed import file_html\n",
    "from bokeh.io import output_notebook\n",
    "from bokeh.resources import CDN\n",
    "\n",
    "try:\n",
    "    IPYTHON = get_ipython()  # type: ignore\n",
    "    output_notebook(hide_banner=True)\n",
    "except NameError:\n",
    "    IPYTHON = None"
   ]
  },
  {
   "cell_type": "code",
   "execution_count": null,
   "id": "5bce77e1-0f3f-46ae-b8ae-062960719d69",
   "metadata": {
    "papermill": {
     "duration": 0.014383,
     "end_time": "2022-03-13T09:00:30.577383",
     "exception": false,
     "start_time": "2022-03-13T09:00:30.563000",
     "status": "completed"
    },
    "tags": []
   },
   "outputs": [],
   "source": [
    "# export\n",
    "def html_repr(func, types):\n",
    "    for cls in types:\n",
    "\n",
    "        def registered(obj):\n",
    "            plot = func(None, obj)\n",
    "            html = file_html(plot, CDN)\n",
    "            return html\n",
    "\n",
    "        if IPYTHON is not None:\n",
    "            fmtr = IPYTHON.display_formatter.formatters[\"text/html\"]\n",
    "            fmtr.for_type(cls, registered)"
   ]
  },
  {
   "cell_type": "code",
   "execution_count": null,
   "id": "de00a860-be44-42a4-9e21-200c0e7997db",
   "metadata": {
    "papermill": {
     "duration": 0.017997,
     "end_time": "2022-03-13T09:00:30.600619",
     "exception": false,
     "start_time": "2022-03-13T09:00:30.582622",
     "status": "completed"
    },
    "tags": []
   },
   "outputs": [],
   "source": [
    "# export\n",
    "html_repr(flbk.draw_point, [pya.DPoint, pya.Point])\n",
    "html_repr(flbk.draw_vector, [pya.DVector, pya.Vector])\n",
    "html_repr(flbk.draw_path, [pya.Path, pya.DPath])\n",
    "html_repr(flbk.draw_poly, [pya.DSimplePolygon, pya.SimplePolygon, pya.DPolygon, pya.Polygon])\n",
    "html_repr(flbk.draw_box, [pya.Box, pya.DBox])\n",
    "html_repr(flbk.draw_cell, [pya.Cell])\n",
    "html_repr(flbk.draw_inst, [pya.Instance])\n",
    "html_repr(flbk.draw_layout, [pya.Layout])"
   ]
  }
 ],
 "metadata": {
  "kernelspec": {
   "display_name": "fl",
   "language": "python",
   "name": "fl"
  },
  "language_info": {
   "codemirror_mode": {
    "name": "ipython",
    "version": 3
   },
   "file_extension": ".py",
   "mimetype": "text/x-python",
   "name": "python",
   "nbconvert_exporter": "python",
   "pygments_lexer": "ipython3",
   "version": "3.10.2"
  },
  "papermill": {
   "default_parameters": {},
   "duration": 1.771183,
   "end_time": "2022-03-13T09:00:30.824557",
   "environment_variables": {},
   "exception": null,
   "input_path": "./source/02_notebook.ipynb",
   "output_path": "./source/02_notebook.ipynb",
   "parameters": {},
   "start_time": "2022-03-13T09:00:29.053374",
   "version": "2.3.4"
  }
 },
 "nbformat": 4,
 "nbformat_minor": 5
}
