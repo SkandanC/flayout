{
 "cells": [
  {
   "cell_type": "markdown",
   "id": "a059ef95",
   "metadata": {},
   "source": [
    "# FLayout Overview\n",
    "\n",
    "> FLayout Overview"
   ]
  },
  {
   "cell_type": "code",
   "execution_count": null,
   "id": "0813fb22",
   "metadata": {},
   "outputs": [],
   "source": [
    "# hide\n",
    "import json\n",
    "from nbdev.showdoc import Markdown"
   ]
  },
  {
   "cell_type": "markdown",
   "id": "cd2bd927",
   "metadata": {},
   "source": [
    "## Index"
   ]
  },
  {
   "cell_type": "code",
   "execution_count": null,
   "id": "3db036f5",
   "metadata": {},
   "outputs": [],
   "source": [
    "# hide_input\n",
    "\n",
    "md = \"\"\n",
    "sidebar = json.load(open(\"../docs/sidebar.json\"))\n",
    "for key, section in sidebar.items():\n",
    "    md += f\"- **{key}**\\n\"\n",
    "    for name, url in section.items():\n",
    "        md += f\"  - [{name}](https://flaport.gitlab.io/flayout/{url})\\n\"\n",
    "        \n",
    "Markdown(md)"
   ]
  }
 ],
 "metadata": {
  "kernelspec": {
   "display_name": "wm",
   "language": "python",
   "name": "wm"
  },
  "language_info": {
   "codemirror_mode": {
    "name": "ipython",
    "version": 3
   },
   "file_extension": ".py",
   "mimetype": "text/x-python",
   "name": "python",
   "nbconvert_exporter": "python",
   "pygments_lexer": "ipython3",
   "version": "3.9.0"
  }
 },
 "nbformat": 4,
 "nbformat_minor": 5
}
