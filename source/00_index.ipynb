{
 "cells": [
  {
   "cell_type": "code",
   "execution_count": null,
   "id": "d2084e67-8453-43e2-b864-007987072521",
   "metadata": {},
   "outputs": [],
   "source": [
    "# default_exp __init__"
   ]
  },
  {
   "cell_type": "markdown",
   "id": "a059ef95",
   "metadata": {
    "papermill": {
     "duration": 0.006194,
     "end_time": "2022-03-13T09:00:23.934629",
     "exception": false,
     "start_time": "2022-03-13T09:00:23.928435",
     "status": "completed"
    },
    "tags": []
   },
   "source": [
    "# FLayout Overview\n",
    "\n",
    "> FLayout Overview"
   ]
  },
  {
   "cell_type": "code",
   "execution_count": null,
   "id": "45ada385-89ae-4efd-9f4f-4553d75dd231",
   "metadata": {},
   "outputs": [],
   "source": [
    "# exporti\n",
    "__version__ = \"0.0.0\"\n",
    "__author__ = \"Floris Laporte\"\n",
    "\n",
    "from flayout.cell import copy_tree as copy_tree\n",
    "from flayout.cell import reference as reference\n",
    "from flayout.factories import box as box\n",
    "from flayout.factories import cell as cell\n",
    "from flayout.factories import layer as layer\n",
    "from flayout.factories import layout as layout\n",
    "from flayout.factories import library as library\n",
    "from flayout.factories import path as path\n",
    "from flayout.factories import point as point\n",
    "from flayout.factories import polygon as polygon\n",
    "from flayout.factories import transform as transform\n",
    "from flayout.factories import vector as vector\n",
    "from flayout.io import read_gds as read_gds\n",
    "from flayout.io import save_gds as save_gds\n",
    "from flayout.pcell import pcell as pcell"
   ]
  },
  {
   "cell_type": "code",
   "execution_count": null,
   "id": "0813fb22",
   "metadata": {
    "papermill": {
     "duration": 0.342827,
     "end_time": "2022-03-13T09:00:24.281242",
     "exception": false,
     "start_time": "2022-03-13T09:00:23.938415",
     "status": "completed"
    },
    "tags": []
   },
   "outputs": [],
   "source": [
    "# hide\n",
    "import json\n",
    "from nbdev.showdoc import Markdown"
   ]
  },
  {
   "cell_type": "markdown",
   "id": "cd2bd927",
   "metadata": {
    "papermill": {
     "duration": 0.004455,
     "end_time": "2022-03-13T09:00:24.290570",
     "exception": false,
     "start_time": "2022-03-13T09:00:24.286115",
     "status": "completed"
    },
    "tags": []
   },
   "source": [
    "## Index"
   ]
  },
  {
   "cell_type": "code",
   "execution_count": null,
   "id": "3db036f5",
   "metadata": {
    "papermill": {
     "duration": 0.018436,
     "end_time": "2022-03-13T09:00:24.311806",
     "exception": false,
     "start_time": "2022-03-13T09:00:24.293370",
     "status": "completed"
    },
    "tags": []
   },
   "outputs": [],
   "source": [
    "# hide_input\n",
    "\n",
    "md = \"\"\n",
    "sidebar = json.load(open(\"../docs/sidebar.json\"))\n",
    "for key, section in sidebar.items():\n",
    "    md += f\"- **{key}**\\n\"\n",
    "    for name, url in section.items():\n",
    "        if url == \"index\":\n",
    "            md += f\"  - {name}\\n\"\n",
    "        else:\n",
    "            md += f\"  - [{name}](https://flaport.gitlab.io/flayout/{url})\\n\"\n",
    "        if url == \"factories\":\n",
    "            md = md[:-1] + \"     ⬅ start here.\\n\"\n",
    "        \n",
    "Markdown(md)"
   ]
  },
  {
   "cell_type": "markdown",
   "id": "5577e5ff-9423-4346-bb21-7fbfb257f2d7",
   "metadata": {},
   "source": [
    "## Todo\n",
    "- gdspy PCell"
   ]
  }
 ],
 "metadata": {
  "kernelspec": {
   "display_name": "fl",
   "language": "python",
   "name": "fl"
  },
  "language_info": {
   "codemirror_mode": {
    "name": "ipython",
    "version": 3
   },
   "file_extension": ".py",
   "mimetype": "text/x-python",
   "name": "python",
   "nbconvert_exporter": "python",
   "pygments_lexer": "ipython3",
   "version": "3.10.2"
  },
  "papermill": {
   "default_parameters": {},
   "duration": 1.799559,
   "end_time": "2022-03-13T09:00:24.533504",
   "environment_variables": {},
   "exception": null,
   "input_path": "./source/00_index.ipynb",
   "output_path": "./source/00_index.ipynb",
   "parameters": {},
   "start_time": "2022-03-13T09:00:22.733945",
   "version": "2.3.4"
  }
 },
 "nbformat": 4,
 "nbformat_minor": 5
}
