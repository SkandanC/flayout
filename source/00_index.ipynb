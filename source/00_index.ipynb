{
 "cells": [
  {
   "cell_type": "markdown",
   "id": "a059ef95",
   "metadata": {
    "papermill": {
     "duration": 0.008584,
     "end_time": "2022-03-13T08:56:48.895462",
     "exception": false,
     "start_time": "2022-03-13T08:56:48.886878",
     "status": "completed"
    },
    "tags": []
   },
   "source": [
    "# FLayout Overview\n",
    "\n",
    "> FLayout Overview"
   ]
  },
  {
   "cell_type": "code",
   "execution_count": null,
   "id": "0813fb22",
   "metadata": {
    "papermill": {
     "duration": 0.444413,
     "end_time": "2022-03-13T08:56:49.346907",
     "exception": false,
     "start_time": "2022-03-13T08:56:48.902494",
     "status": "completed"
    },
    "tags": []
   },
   "outputs": [],
   "source": [
    "# hide\n",
    "import json\n",
    "from nbdev.showdoc import Markdown"
   ]
  },
  {
   "cell_type": "markdown",
   "id": "cd2bd927",
   "metadata": {
    "papermill": {
     "duration": 0.00543,
     "end_time": "2022-03-13T08:56:49.356242",
     "exception": false,
     "start_time": "2022-03-13T08:56:49.350812",
     "status": "completed"
    },
    "tags": []
   },
   "source": [
    "## Index"
   ]
  },
  {
   "cell_type": "code",
   "execution_count": null,
   "id": "3db036f5",
   "metadata": {
    "papermill": {
     "duration": 0.02326,
     "end_time": "2022-03-13T08:56:49.385704",
     "exception": false,
     "start_time": "2022-03-13T08:56:49.362444",
     "status": "completed"
    },
    "tags": []
   },
   "outputs": [],
   "source": [
    "# hide_input\n",
    "\n",
    "md = \"\"\n",
    "sidebar = json.load(open(\"../docs/sidebar.json\"))\n",
    "for key, section in sidebar.items():\n",
    "    md += f\"- **{key}**\\n\"\n",
    "    for name, url in section.items():\n",
    "        md += f\"  - [{name}](https://flaport.gitlab.io/flayout/{url})\\n\"\n",
    "        if url == \"factories\":\n",
    "            md = md[:-1] + \"     ⬅ start here.\\n\"\n",
    "        \n",
    "Markdown(md)"
   ]
  }
 ],
 "metadata": {
  "kernelspec": {
   "display_name": "wm",
   "language": "python",
   "name": "wm"
  },
  "language_info": {
   "codemirror_mode": {
    "name": "ipython",
    "version": 3
   },
   "file_extension": ".py",
   "mimetype": "text/x-python",
   "name": "python",
   "nbconvert_exporter": "python",
   "pygments_lexer": "ipython3",
   "version": "3.10.2"
  },
  "papermill": {
   "default_parameters": {},
   "duration": 1.779302,
   "end_time": "2022-03-13T08:56:49.608195",
   "environment_variables": {},
   "exception": null,
   "input_path": "source/00_index.ipynb",
   "output_path": "source/00_index.ipynb",
   "parameters": {},
   "start_time": "2022-03-13T08:56:47.828893",
   "version": "2.3.4"
  }
 },
 "nbformat": 4,
 "nbformat_minor": 5
}
