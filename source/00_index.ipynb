{
 "cells": [
  {
   "cell_type": "markdown",
   "id": "a059ef95",
   "metadata": {
    "papermill": {
     "duration": 0.006194,
     "end_time": "2022-03-13T09:00:23.934629",
     "exception": false,
     "start_time": "2022-03-13T09:00:23.928435",
     "status": "completed"
    },
    "tags": []
   },
   "source": [
    "# FLayout Overview\n",
    "\n",
    "> FLayout Overview"
   ]
  },
  {
   "cell_type": "code",
   "execution_count": null,
   "id": "0813fb22",
   "metadata": {
    "papermill": {
     "duration": 0.342827,
     "end_time": "2022-03-13T09:00:24.281242",
     "exception": false,
     "start_time": "2022-03-13T09:00:23.938415",
     "status": "completed"
    },
    "tags": []
   },
   "outputs": [],
   "source": [
    "# hide\n",
    "import json\n",
    "from nbdev.showdoc import Markdown"
   ]
  },
  {
   "cell_type": "markdown",
   "id": "cd2bd927",
   "metadata": {
    "papermill": {
     "duration": 0.004455,
     "end_time": "2022-03-13T09:00:24.290570",
     "exception": false,
     "start_time": "2022-03-13T09:00:24.286115",
     "status": "completed"
    },
    "tags": []
   },
   "source": [
    "## Index"
   ]
  },
  {
   "cell_type": "code",
   "execution_count": null,
   "id": "3db036f5",
   "metadata": {
    "papermill": {
     "duration": 0.018436,
     "end_time": "2022-03-13T09:00:24.311806",
     "exception": false,
     "start_time": "2022-03-13T09:00:24.293370",
     "status": "completed"
    },
    "tags": []
   },
   "outputs": [],
   "source": [
    "# hide_input\n",
    "\n",
    "md = \"\"\n",
    "sidebar = json.load(open(\"../docs/sidebar.json\"))\n",
    "for key, section in sidebar.items():\n",
    "    md += f\"- **{key}**\\n\"\n",
    "    for name, url in section.items():\n",
    "        md += f\"  - [{name}](https://flaport.gitlab.io/flayout/{url})\\n\"\n",
    "        if url == \"factories\":\n",
    "            md = md[:-1] + \"     ⬅ start here.\\n\"\n",
    "        \n",
    "Markdown(md)"
   ]
  }
 ],
 "metadata": {
  "kernelspec": {
   "display_name": "wm",
   "language": "python",
   "name": "wm"
  },
  "language_info": {
   "codemirror_mode": {
    "name": "ipython",
    "version": 3
   },
   "file_extension": ".py",
   "mimetype": "text/x-python",
   "name": "python",
   "nbconvert_exporter": "python",
   "pygments_lexer": "ipython3",
   "version": "3.10.2"
  },
  "papermill": {
   "default_parameters": {},
   "duration": 1.799559,
   "end_time": "2022-03-13T09:00:24.533504",
   "environment_variables": {},
   "exception": null,
   "input_path": "./source/00_index.ipynb",
   "output_path": "./source/00_index.ipynb",
   "parameters": {},
   "start_time": "2022-03-13T09:00:22.733945",
   "version": "2.3.4"
  }
 },
 "nbformat": 4,
 "nbformat_minor": 5
}
