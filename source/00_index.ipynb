{
 "cells": [
  {
   "cell_type": "markdown",
   "id": "a059ef95",
   "metadata": {},
   "source": [
    "# FLayout Overview\n",
    "\n",
    "> FLayout Overview"
   ]
  },
  {
   "cell_type": "code",
   "execution_count": null,
   "id": "0813fb22",
   "metadata": {},
   "outputs": [],
   "source": [
    "# hide\n",
    "import json\n",
    "from nbdev.showdoc import Markdown"
   ]
  },
  {
   "cell_type": "markdown",
   "id": "cd2bd927",
   "metadata": {},
   "source": [
    "## Index"
   ]
  },
  {
   "cell_type": "code",
   "execution_count": null,
   "id": "3db036f5",
   "metadata": {},
   "outputs": [],
   "source": [
    "# hide_input\n",
    "md = \"\"\n",
    "sidebar = json.load(open(\"docs/sidebar.json\"))['FLayout']\n",
    "for name, url in sidebar.items():\n",
    "    md += f\"- [{name}](https://flaport.gitlab.io/flayout/{url})\\n\"\n",
    "Markdown(md)"
   ]
  }
 ],
 "metadata": {
  "kernelspec": {
   "display_name": "wm",
   "language": "python",
   "name": "wm"
  }
 },
 "nbformat": 4,
 "nbformat_minor": 5
}
