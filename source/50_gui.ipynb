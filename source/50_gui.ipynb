{
 "cells": [
  {
   "cell_type": "code",
   "execution_count": null,
   "id": "831fd803-f817-4b13-94b9-c97d5fd9b667",
   "metadata": {},
   "outputs": [],
   "source": [
    "# default_exp gui"
   ]
  },
  {
   "cell_type": "markdown",
   "id": "a8f0486c-2290-4ec4-b63f-63987110c7a1",
   "metadata": {},
   "source": [
    "# GUI\n",
    "> An example KLayout-base GUI"
   ]
  },
  {
   "cell_type": "code",
   "execution_count": null,
   "id": "055bfd2c-4968-4b16-b4e4-65a7ee48381e",
   "metadata": {},
   "outputs": [],
   "source": [
    "# exporti\n",
    "import pya\n",
    "import flayout as fl\n",
    "import numpy as np"
   ]
  },
  {
   "cell_type": "code",
   "execution_count": null,
   "id": "60d0fcaf-79fd-41ab-a658-52f101b384ef",
   "metadata": {},
   "outputs": [],
   "source": [
    "# hide\n",
    "import flayout.notebook"
   ]
  },
  {
   "cell_type": "code",
   "execution_count": null,
   "id": "8f9ece43-492a-4f59-b16b-0eecc60b002f",
   "metadata": {},
   "outputs": [],
   "source": [
    "# export\n",
    "@fl.pcell\n",
    "def instance(\n",
    "    name=\"instance\",\n",
    "    width: float = 1.0,\n",
    "    height: float = 1.0,\n",
    "    num_inputs: int = 3,\n",
    "    num_outputs: int = 1,\n",
    "    port_size=0.1,\n",
    "):\n",
    "    if (width < 2 * port_size) or (height < 2 * port_size):\n",
    "        raise ValueError(f\"width/height should be bigger than port size. Got: {width:.2f} < {port_size:.2f}\")\n",
    "        \n",
    "    rect = np.array([(-width/2, -height/2), (width/2, -height/2), (width/2, height/2), (-width/2, height/2)])\n",
    "    port = np.array([(-port_size/2, -port_size/2), (port_size/2, -port_size/2), (port_size/2, port_size/2), (-port_size/2, port_size/2)])\n",
    "    input_ports = np.array([port + np.array([-width/2, y]) for i, y in enumerate(np.linspace(-width/2, width/2, num_inputs + 2)[1:-1])])\n",
    "    output_ports = np.array([port + np.array([width/2, y]) for i, y in enumerate(np.linspace(-width/2, width/2, num_inputs + 2)[1:-1])])\n",
    "    \n",
    "    \n",
    "    cell = fl.cell(\n",
    "        name, \n",
    "        shapes={\n",
    "            (1, 0): [rect],\n",
    "            (1, 1): [*input_ports, *output_ports],\n",
    "        }\n",
    "    )\n",
    "    return cell"
   ]
  },
  {
   "cell_type": "code",
   "execution_count": null,
   "id": "56580594-751c-453f-918c-5241c681bda8",
   "metadata": {},
   "outputs": [],
   "source": [
    "instance()"
   ]
  },
  {
   "cell_type": "code",
   "execution_count": null,
   "id": "d448a5b3-b1c2-4310-99ed-33cd50681440",
   "metadata": {},
   "outputs": [],
   "source": [
    "@fl.pcell\n",
    "def connection(\n",
    "    name=\"connection\",\n",
    "    input=\"\",\n",
    "    output=\"\",\n",
    "):\n",
    "    rect = np.array([(-width/2, -height/2), (width/2, -height/2), (width/2, height/2), (-width/2, height/2)])\n",
    "    port = np.array([(-port_size/2, -port_size/2), (port_size/2, -port_size/2), (port_size/2, port_size/2), (-port_size/2, port_size/2)])\n",
    "    input_ports = np.array([port + np.array([-width/2, y]) for i, y in enumerate(np.linspace(-width/2, width/2, num_inputs + 2)[1:-1])])\n",
    "    output_ports = np.array([port + np.array([width/2, y]) for i, y in enumerate(np.linspace(-width/2, width/2, num_outputs + 2)[1:-1])])\n",
    "    \n",
    "    \n",
    "    cell = fl.cell(\n",
    "        name, \n",
    "        shapes={\n",
    "            (1, 0): [rect],\n",
    "            (1, 1): [*input_ports, *output_ports],\n",
    "        }\n",
    "    )\n",
    "    return cell"
   ]
  },
  {
   "cell_type": "code",
   "execution_count": null,
   "id": "71b00ca4-04de-449c-882d-6760ffdde495",
   "metadata": {},
   "outputs": [],
   "source": [
    "# exports\n",
    "example_lib = fl.library(\n",
    "    \"F. E. L.\",\n",
    "    pcells=[instance],\n",
    "    cells=[],\n",
    "    description=\"FLayout Example Library\",\n",
    ")"
   ]
  }
 ],
 "metadata": {
  "kernelspec": {
   "display_name": "fl",
   "language": "python",
   "name": "fl"
  },
  "language_info": {
   "codemirror_mode": {
    "name": "ipython",
    "version": 3
   },
   "file_extension": ".py",
   "mimetype": "text/x-python",
   "name": "python",
   "nbconvert_exporter": "python",
   "pygments_lexer": "ipython3",
   "version": "3.8.12"
  }
 },
 "nbformat": 4,
 "nbformat_minor": 5
}
